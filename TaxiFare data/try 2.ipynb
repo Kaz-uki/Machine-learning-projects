{
 "cells": [
  {
   "cell_type": "code",
   "execution_count": 2,
   "id": "initial_id",
   "metadata": {
    "collapsed": true,
    "ExecuteTime": {
     "end_time": "2023-09-20T06:35:51.678056Z",
     "start_time": "2023-09-20T06:35:51.618229100Z"
    }
   },
   "outputs": [],
   "source": [
    "import pandas as pd\n",
    "from sklearn.model_selection import train_test_split\n",
    "from sklearn.ensemble import RandomForestRegressor\n",
    "\n",
    "# Load the dataset\n",
    "df = pd.read_csv('TaxiFare.csv')"
   ]
  },
  {
   "cell_type": "code",
   "execution_count": 3,
   "outputs": [],
   "source": [
    "# Convert the pickup date and time to pandas datetime object\n",
    "df['date_time_of_pickup'] = pd.to_datetime(df['date_time_of_pickup'])\n"
   ],
   "metadata": {
    "collapsed": false,
    "ExecuteTime": {
     "end_time": "2023-09-20T06:36:13.652918Z",
     "start_time": "2023-09-20T06:36:09.380474Z"
    }
   },
   "id": "67ca3cffcfa8b7b2"
  },
  {
   "cell_type": "code",
   "execution_count": 6,
   "outputs": [],
   "source": [
    "#Extract the day of the week from the date_time_of_pickup column\n",
    "df['day_of_week'] = df['date_time_of_pickup'].dt.dayofweek\n"
   ],
   "metadata": {
    "collapsed": false,
    "ExecuteTime": {
     "end_time": "2023-09-20T06:36:40.839782900Z",
     "start_time": "2023-09-20T06:36:40.818241300Z"
    }
   },
   "id": "4cb8174c9305065"
  },
  {
   "cell_type": "code",
   "execution_count": 7,
   "outputs": [],
   "source": [
    "#extract the hour from the date_time_of_pickup column\n",
    "df['hour'] = df['date_time_of_pickup'].dt.hour\n"
   ],
   "metadata": {
    "collapsed": false,
    "ExecuteTime": {
     "end_time": "2023-09-20T06:36:52.141993300Z",
     "start_time": "2023-09-20T06:36:52.121230700Z"
    }
   },
   "id": "a09838ce2cfb66a1"
  },
  {
   "cell_type": "code",
   "execution_count": 8,
   "outputs": [],
   "source": [
    "#extract the month from the date_time_of_pickup column\n",
    "df['month'] = df['date_time_of_pickup'].dt.month\n"
   ],
   "metadata": {
    "collapsed": false,
    "ExecuteTime": {
     "end_time": "2023-09-20T06:36:59.123912800Z",
     "start_time": "2023-09-20T06:36:59.098182700Z"
    }
   },
   "id": "c8d953a4219e812c"
  },
  {
   "cell_type": "code",
   "execution_count": 9,
   "outputs": [],
   "source": [
    "#extract the year from the date_time_of_pickup column\n",
    "df['year'] = df['date_time_of_pickup'].dt.year\n"
   ],
   "metadata": {
    "collapsed": false,
    "ExecuteTime": {
     "end_time": "2023-09-20T06:37:16.192225600Z",
     "start_time": "2023-09-20T06:37:16.172062700Z"
    }
   },
   "id": "e7e6652347722e0c"
  },
  {
   "cell_type": "code",
   "execution_count": 10,
   "outputs": [
    {
     "data": {
      "text/plain": "  unique_id  amount       date_time_of_pickup  longitude_of_pickup  \\\n0   26:21.0     4.5 2009-06-15 17:26:21+00:00           -73.844311   \n1   52:16.0    16.9 2010-01-05 16:52:16+00:00           -74.016048   \n2   35:00.0     5.7 2011-08-18 00:35:00+00:00           -73.982738   \n3   30:42.0     7.7 2012-04-21 04:30:42+00:00           -73.987130   \n4   51:00.0     5.3 2010-03-09 07:51:00+00:00           -73.968095   \n\n   latitude_of_pickup  longitude_of_dropoff  latitude_of_dropoff  \\\n0           40.721319            -73.841610            40.712278   \n1           40.711303            -73.979268            40.782004   \n2           40.761270            -73.991242            40.750562   \n3           40.733143            -73.991567            40.758092   \n4           40.768008            -73.956655            40.783762   \n\n   no_of_passenger  day_of_week  hour  month  year  \n0                1            0    17      6  2009  \n1                1            1    16      1  2010  \n2                2            3     0      8  2011  \n3                1            5     4      4  2012  \n4                1            1     7      3  2010  ",
      "text/html": "<div>\n<style scoped>\n    .dataframe tbody tr th:only-of-type {\n        vertical-align: middle;\n    }\n\n    .dataframe tbody tr th {\n        vertical-align: top;\n    }\n\n    .dataframe thead th {\n        text-align: right;\n    }\n</style>\n<table border=\"1\" class=\"dataframe\">\n  <thead>\n    <tr style=\"text-align: right;\">\n      <th></th>\n      <th>unique_id</th>\n      <th>amount</th>\n      <th>date_time_of_pickup</th>\n      <th>longitude_of_pickup</th>\n      <th>latitude_of_pickup</th>\n      <th>longitude_of_dropoff</th>\n      <th>latitude_of_dropoff</th>\n      <th>no_of_passenger</th>\n      <th>day_of_week</th>\n      <th>hour</th>\n      <th>month</th>\n      <th>year</th>\n    </tr>\n  </thead>\n  <tbody>\n    <tr>\n      <th>0</th>\n      <td>26:21.0</td>\n      <td>4.5</td>\n      <td>2009-06-15 17:26:21+00:00</td>\n      <td>-73.844311</td>\n      <td>40.721319</td>\n      <td>-73.841610</td>\n      <td>40.712278</td>\n      <td>1</td>\n      <td>0</td>\n      <td>17</td>\n      <td>6</td>\n      <td>2009</td>\n    </tr>\n    <tr>\n      <th>1</th>\n      <td>52:16.0</td>\n      <td>16.9</td>\n      <td>2010-01-05 16:52:16+00:00</td>\n      <td>-74.016048</td>\n      <td>40.711303</td>\n      <td>-73.979268</td>\n      <td>40.782004</td>\n      <td>1</td>\n      <td>1</td>\n      <td>16</td>\n      <td>1</td>\n      <td>2010</td>\n    </tr>\n    <tr>\n      <th>2</th>\n      <td>35:00.0</td>\n      <td>5.7</td>\n      <td>2011-08-18 00:35:00+00:00</td>\n      <td>-73.982738</td>\n      <td>40.761270</td>\n      <td>-73.991242</td>\n      <td>40.750562</td>\n      <td>2</td>\n      <td>3</td>\n      <td>0</td>\n      <td>8</td>\n      <td>2011</td>\n    </tr>\n    <tr>\n      <th>3</th>\n      <td>30:42.0</td>\n      <td>7.7</td>\n      <td>2012-04-21 04:30:42+00:00</td>\n      <td>-73.987130</td>\n      <td>40.733143</td>\n      <td>-73.991567</td>\n      <td>40.758092</td>\n      <td>1</td>\n      <td>5</td>\n      <td>4</td>\n      <td>4</td>\n      <td>2012</td>\n    </tr>\n    <tr>\n      <th>4</th>\n      <td>51:00.0</td>\n      <td>5.3</td>\n      <td>2010-03-09 07:51:00+00:00</td>\n      <td>-73.968095</td>\n      <td>40.768008</td>\n      <td>-73.956655</td>\n      <td>40.783762</td>\n      <td>1</td>\n      <td>1</td>\n      <td>7</td>\n      <td>3</td>\n      <td>2010</td>\n    </tr>\n  </tbody>\n</table>\n</div>"
     },
     "execution_count": 10,
     "metadata": {},
     "output_type": "execute_result"
    }
   ],
   "source": [
    "df.head()"
   ],
   "metadata": {
    "collapsed": false,
    "ExecuteTime": {
     "end_time": "2023-09-20T06:37:23.461938300Z",
     "start_time": "2023-09-20T06:37:23.438143300Z"
    }
   },
   "id": "26f2a5d1287f292d"
  },
  {
   "cell_type": "code",
   "execution_count": 11,
   "outputs": [],
   "source": [
    "#drop the date_time_of_pickup column\n",
    "df.drop('date_time_of_pickup', axis=1, inplace=True)"
   ],
   "metadata": {
    "collapsed": false,
    "ExecuteTime": {
     "end_time": "2023-09-20T06:37:33.574682Z",
     "start_time": "2023-09-20T06:37:33.541935800Z"
    }
   },
   "id": "fedb3aba93dc178a"
  },
  {
   "cell_type": "code",
   "execution_count": 13,
   "outputs": [],
   "source": [
    "#drop unique_id column\n",
    "df.drop('unique_id', axis=1, inplace=True)"
   ],
   "metadata": {
    "collapsed": false,
    "ExecuteTime": {
     "end_time": "2023-09-20T06:38:04.847667900Z",
     "start_time": "2023-09-20T06:38:04.825185Z"
    }
   },
   "id": "a2fb8e037adc86cd"
  },
  {
   "cell_type": "code",
   "execution_count": 14,
   "outputs": [
    {
     "data": {
      "text/plain": "   amount  longitude_of_pickup  latitude_of_pickup  longitude_of_dropoff  \\\n0     4.5           -73.844311           40.721319            -73.841610   \n1    16.9           -74.016048           40.711303            -73.979268   \n2     5.7           -73.982738           40.761270            -73.991242   \n3     7.7           -73.987130           40.733143            -73.991567   \n4     5.3           -73.968095           40.768008            -73.956655   \n\n   latitude_of_dropoff  no_of_passenger  day_of_week  hour  month  year  \n0            40.712278                1            0    17      6  2009  \n1            40.782004                1            1    16      1  2010  \n2            40.750562                2            3     0      8  2011  \n3            40.758092                1            5     4      4  2012  \n4            40.783762                1            1     7      3  2010  ",
      "text/html": "<div>\n<style scoped>\n    .dataframe tbody tr th:only-of-type {\n        vertical-align: middle;\n    }\n\n    .dataframe tbody tr th {\n        vertical-align: top;\n    }\n\n    .dataframe thead th {\n        text-align: right;\n    }\n</style>\n<table border=\"1\" class=\"dataframe\">\n  <thead>\n    <tr style=\"text-align: right;\">\n      <th></th>\n      <th>amount</th>\n      <th>longitude_of_pickup</th>\n      <th>latitude_of_pickup</th>\n      <th>longitude_of_dropoff</th>\n      <th>latitude_of_dropoff</th>\n      <th>no_of_passenger</th>\n      <th>day_of_week</th>\n      <th>hour</th>\n      <th>month</th>\n      <th>year</th>\n    </tr>\n  </thead>\n  <tbody>\n    <tr>\n      <th>0</th>\n      <td>4.5</td>\n      <td>-73.844311</td>\n      <td>40.721319</td>\n      <td>-73.841610</td>\n      <td>40.712278</td>\n      <td>1</td>\n      <td>0</td>\n      <td>17</td>\n      <td>6</td>\n      <td>2009</td>\n    </tr>\n    <tr>\n      <th>1</th>\n      <td>16.9</td>\n      <td>-74.016048</td>\n      <td>40.711303</td>\n      <td>-73.979268</td>\n      <td>40.782004</td>\n      <td>1</td>\n      <td>1</td>\n      <td>16</td>\n      <td>1</td>\n      <td>2010</td>\n    </tr>\n    <tr>\n      <th>2</th>\n      <td>5.7</td>\n      <td>-73.982738</td>\n      <td>40.761270</td>\n      <td>-73.991242</td>\n      <td>40.750562</td>\n      <td>2</td>\n      <td>3</td>\n      <td>0</td>\n      <td>8</td>\n      <td>2011</td>\n    </tr>\n    <tr>\n      <th>3</th>\n      <td>7.7</td>\n      <td>-73.987130</td>\n      <td>40.733143</td>\n      <td>-73.991567</td>\n      <td>40.758092</td>\n      <td>1</td>\n      <td>5</td>\n      <td>4</td>\n      <td>4</td>\n      <td>2012</td>\n    </tr>\n    <tr>\n      <th>4</th>\n      <td>5.3</td>\n      <td>-73.968095</td>\n      <td>40.768008</td>\n      <td>-73.956655</td>\n      <td>40.783762</td>\n      <td>1</td>\n      <td>1</td>\n      <td>7</td>\n      <td>3</td>\n      <td>2010</td>\n    </tr>\n  </tbody>\n</table>\n</div>"
     },
     "execution_count": 14,
     "metadata": {},
     "output_type": "execute_result"
    }
   ],
   "source": [
    "df.head()"
   ],
   "metadata": {
    "collapsed": false,
    "ExecuteTime": {
     "end_time": "2023-09-20T06:38:10.801988600Z",
     "start_time": "2023-09-20T06:38:10.776195600Z"
    }
   },
   "id": "4965cbd8da3e57f7"
  },
  {
   "cell_type": "code",
   "execution_count": 15,
   "outputs": [
    {
     "data": {
      "text/plain": "Index(['amount', 'longitude_of_pickup', 'latitude_of_pickup',\n       'longitude_of_dropoff', 'latitude_of_dropoff', 'no_of_passenger',\n       'day_of_week', 'hour', 'month', 'year'],\n      dtype='object')"
     },
     "execution_count": 15,
     "metadata": {},
     "output_type": "execute_result"
    }
   ],
   "source": [
    "#show columns\n",
    "df.columns"
   ],
   "metadata": {
    "collapsed": false,
    "ExecuteTime": {
     "end_time": "2023-09-20T06:38:23.374311100Z",
     "start_time": "2023-09-20T06:38:23.356639800Z"
    }
   },
   "id": "b81e850a226dfde5"
  },
  {
   "cell_type": "code",
   "execution_count": 18,
   "outputs": [
    {
     "ename": "SyntaxError",
     "evalue": "invalid syntax. Maybe you meant '==' or ':=' instead of '='? (2325586945.py, line 5)",
     "output_type": "error",
     "traceback": [
      "\u001B[1;36m  Cell \u001B[1;32mIn[18], line 5\u001B[1;36m\u001B[0m\n\u001B[1;33m    dtype='object'], test_size=0.2, random_state=42)\u001B[0m\n\u001B[1;37m    ^\u001B[0m\n\u001B[1;31mSyntaxError\u001B[0m\u001B[1;31m:\u001B[0m invalid syntax. Maybe you meant '==' or ':=' instead of '='?\n"
     ]
    }
   ],
   "source": [
    "# Split the data into training and test sets\n",
    "X_train, X_test, y_train, y_test = train_test_split(df[['amount', 'longitude_of_pickup', 'latitude_of_pickup',\n",
    "       'longitude_of_dropoff', 'latitude_of_dropoff', 'no_of_passenger',\n",
    "       'day_of_week', 'hour', 'month', 'year'],\n",
    "      dtype='object'], test_size=0.2, random_state=42)\n"
   ],
   "metadata": {
    "collapsed": false,
    "ExecuteTime": {
     "end_time": "2023-09-20T06:40:07.952080300Z",
     "start_time": "2023-09-20T06:40:07.931777800Z"
    }
   },
   "id": "5c27fac9fe32152c"
  },
  {
   "cell_type": "code",
   "execution_count": 16,
   "outputs": [
    {
     "ename": "SyntaxError",
     "evalue": "closing parenthesis ']' does not match opening parenthesis '(' on line 2 (2615679089.py, line 5)",
     "output_type": "error",
     "traceback": [
      "\u001B[1;36m  Cell \u001B[1;32mIn[16], line 5\u001B[1;36m\u001B[0m\n\u001B[1;33m    dtype='object']], df['amount'], test_size=0.25, random_state=42)\u001B[0m\n\u001B[1;37m                   ^\u001B[0m\n\u001B[1;31mSyntaxError\u001B[0m\u001B[1;31m:\u001B[0m closing parenthesis ']' does not match opening parenthesis '(' on line 2\n"
     ]
    }
   ],
   "source": [
    "import numpy as np\n",
    "model = RandomForestRegressor(n_estimators=100, random_state=42)\n",
    "\n",
    "# Train the model on the training set\n",
    "model.fit(X_train, y_train)\n",
    "\n",
    "# Evaluate the model on the test set\n",
    "y_pred = model.predict(X_test)\n",
    "mse = np.mean((y_pred - y_test)**2)\n",
    "print('Mean squared error:', mse)\n"
   ],
   "metadata": {
    "collapsed": false,
    "ExecuteTime": {
     "end_time": "2023-09-20T06:39:15.084894200Z",
     "start_time": "2023-09-20T06:39:15.070699800Z"
    }
   },
   "id": "3a71502bdc3d0972"
  },
  {
   "cell_type": "code",
   "execution_count": null,
   "outputs": [],
   "source": [
    "from sklearn.model_selection import GridSearchCV\n",
    "\n",
    "# Define the hyperparameter grid\n",
    "param_grid = {\n",
    "    'n_estimators': [50, 100, 200],\n",
    "    'max_depth': [3, 5, 10],\n",
    "    'min_samples_split': [2, 5, 10],\n",
    "    'random_state': [42]\n",
    "}\n",
    "\n",
    "# Create a GridSearchCV object\n",
    "grid_search = GridSearchCV(model, param_grid, cv=5, n_jobs=-1)\n",
    "\n",
    "# Fit the model to the training data\n",
    "grid_search.fit(X_train, y_train)\n",
    "\n",
    "# Get the best model\n",
    "best_model = grid_search.best_estimator_\n",
    "\n",
    "# Evaluate the best model on the test set\n",
    "y_pred = best_model.predict(X_test)\n",
    "mse = np.mean((y_pred - y_test)**2)\n",
    "print('Mean squared error:', mse)\n"
   ],
   "metadata": {
    "collapsed": false
   },
   "id": "7e8b6c45a8d46727"
  }
 ],
 "metadata": {
  "kernelspec": {
   "display_name": "Python 3",
   "language": "python",
   "name": "python3"
  },
  "language_info": {
   "codemirror_mode": {
    "name": "ipython",
    "version": 2
   },
   "file_extension": ".py",
   "mimetype": "text/x-python",
   "name": "python",
   "nbconvert_exporter": "python",
   "pygments_lexer": "ipython2",
   "version": "2.7.6"
  }
 },
 "nbformat": 4,
 "nbformat_minor": 5
}
